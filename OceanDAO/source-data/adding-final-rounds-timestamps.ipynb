{
 "cells": [
  {
   "cell_type": "code",
   "execution_count": 1,
   "id": "5672f143-a214-46b3-8112-fc5d63fdcaf6",
   "metadata": {},
   "outputs": [],
   "source": [
    "import pandas as pd\n",
    "\n",
    "all_proposals_data = pd.read_csv(\"All Proposals.csv\")"
   ]
  },
  {
   "cell_type": "markdown",
   "id": "f4ba4185-10b3-42e5-9bb6-35e6e6f888b8",
   "metadata": {},
   "source": [
    "## Doing Rounds 9 and 10"
   ]
  },
  {
   "cell_type": "markdown",
   "id": "2a1c7f8b-f3c5-46c0-9971-db933aa541fc",
   "metadata": {},
   "source": [
    "At our request, the Ocean engineers graciously added time stamp data for Rounds 9 and 10 in the \"OceanDAOVotes.xlsx\" file. We will be using a slightly different process to extract the timestamps here. "
   ]
  },
  {
   "cell_type": "code",
   "execution_count": 2,
   "id": "c6c01720-6ffc-4645-b611-0fcdb2313d7b",
   "metadata": {},
   "outputs": [],
   "source": [
    "def transfer_data(df1: pd.DataFrame, df2: pd.DataFrame, source_col: str,\n",
    "                  match_col: str, target_cols: list) -> None:\n",
    "    \"\"\"\n",
    "    This function transfers the information in the target_col column\n",
    "    from df2 to df1. Modifies data frame in place. \n",
    "    \n",
    "    \"\"\"\n",
    "    for target_col in target_cols:\n",
    "        names_dict = {x:y for x,y in\n",
    "                   zip(df2[match_col],\n",
    "                      df2[target_col])}\n",
    "        df1[target_col] = df1[source_col].map(names_dict)\n",
    "    return None\n",
    "\n",
    "def lookup_time_excel_sheet(wallet:str, hash_str:str) -> str:\n",
    "    truncate_hash = hash_str[0:31]\n",
    "    get_sheet = pd.read_excel(\"OceanDAOVotes.xlsx\", \n",
    "                             sheet_name = truncate_hash)\n",
    "    get_voter = get_sheet[get_sheet[\"address\"] == wallet]\n",
    "    get_time = get_voter[\"created\"]\n",
    "    real_time = get_time.loc[0]\n",
    "    print(real_time)\n",
    "    return get_time\n",
    "\n",
    "\n",
    "\n",
    "def lookup_time(wallet:str, hash_str:str) -> str:\n",
    "    get_voter = snapshot_data[snapshot_data[\"voter\"]==wallet]\n",
    "    get_vote = get_voter[get_voter[\"ipfsHash\"] == hash_str]\n",
    "    get_time = get_vote[\"created\"]\n",
    "    return get_time\n",
    "\n",
    "def create_timestamp_column(df:pd.DataFrame) -> list:\n",
    "    timestamps = [lookup_time(df.loc[k,\"address\"],df.loc[k,\"ipfsHash\"]) \n",
    "                  for k in range(len(df))]\n",
    "    return timestamps\n",
    "\n",
    "def truncate_hash(ipfshash:str) -> str:\n",
    "    \"\"\"\n",
    "    Truncate the hash to 31 characters for accessing sheet names.\n",
    "    \n",
    "    \"\"\"\n",
    "    return ipfshash[:31]\n",
    "\n",
    "def get_project_data(ipfshash:str, round_number:int,\n",
    "                              proposal_name:str) -> pd.DataFrame:\n",
    "    \"\"\"\n",
    "    Given the ipfshash for a project,  a round number, and a proposal name,\n",
    "    access the data corresponding to that. \n",
    "    \"\"\"\n",
    "    truncated_hash = truncate_hash(ipfshash)\n",
    "    project_data = pd.read_excel(\"OceanDAOVotes.xlsx\", \n",
    "                                 sheet_name = truncated_hash)\n",
    "    project_data[\"round\"] = round_number\n",
    "    project_data[\"Proposal Name\"] = proposal_name\n",
    "    project_data[\"ipfsHash\"] = ipfshash\n",
    "\n",
    "    project_data.rename(columns = {'balace': 'balance'}, inplace = True)\n",
    "    \n",
    "    return project_data\n",
    "\n",
    "def get_round_data(round_number: int) -> pd.DataFrame:\n",
    "    \"\"\"\n",
    "    Get the data from a given round. \n",
    "    \"\"\"\n",
    "    our_sheet_name = \"Round \" + str(round_number) + \" Results\"\n",
    "    base_data = pd.read_excel(\"OceanDAOVotes.xlsx\", sheet_name = our_sheet_name)\n",
    "    return base_data\n",
    "\n",
    "def get_project_data_from_round(round_number: int) -> pd.DataFrame:\n",
    "    \"\"\"\n",
    "    Get the project data from a given round. \n",
    "    \"\"\"\n",
    "    round_data = get_round_data(round_number)\n",
    "    project_df_list = []\n",
    "    for project_index in range(len(round_data)):\n",
    "        project_ipfshash = round_data.loc[project_index,\"ipfsHash\"]\n",
    "        proposal_name = round_data.loc[project_index,\"Project Name\"]\n",
    "        project_data = get_project_data(project_ipfshash,\n",
    "                                        round_number,\n",
    "                                       proposal_name)\n",
    "        project_df_list.append(project_data)\n",
    "    all_data = pd.concat(project_df_list)\n",
    "    return all_data\n",
    "\n",
    "\n",
    "choice_map = {1: \"Yes\", 2: \"No\"}\n",
    "\n",
    "info_to_add = [\"Project Name\", \"Proposal State\",\n",
    "               \"Proposal Standing\", \"Grant Category\", \n",
    "                                       \"Earmarks\", \"OCEAN Granted\"]\n",
    "info_to_drop_at_end = [\"choice\",\"version\",\"authorIpfsHash\",\n",
    "                      \"relayIpfsHash\", \"round\"]\n",
    "early_rounds_cols = ['address', 'balance', 'timestamp', 'Vote', 'Round', 'Project Name',\n",
    "       'Proposal State', 'Proposal Standing', 'Grant Category', 'Earmarks',\n",
    "       'OCEAN Granted']\n",
    "\n",
    "def process_very_late_round_data(rd_num:int, cols_to_keep) -> pd.DataFrame:\n",
    "    rd_data = get_project_data_from_round(rd_num)\n",
    "    rd_proposal_data = all_proposals_data[all_proposals_data[\"Round\"] == rd_num]\n",
    "    rd_data[\"Vote\"] = rd_data[\"choice\"].map(choice_map)\n",
    "    rd_data[\"Round\"] = rd_num\n",
    "    transfer_data(rd_data, rd_proposal_data, \"ipfsHash\",\n",
    "                 \"ipfsHash\", info_to_add)\n",
    "    rd_data[\"OCEAN Granted\"].fillna(value = 0, inplace = True)\n",
    "    rd_data.reset_index(inplace=True)\n",
    "    #rd_data[\"created\"] = [int(x) for x in rd_data[\"created\"]]\n",
    "    rd_data.rename(columns = {\"created\":\"timestamp\"},\n",
    "                   inplace = True)\n",
    "    rd_data = rd_data[cols_to_keep]\n",
    "    return rd_data\n",
    "\n",
    "\n",
    "\n",
    "\n",
    "\n"
   ]
  },
  {
   "cell_type": "code",
   "execution_count": 3,
   "id": "8f7b4078-4c7d-4c3b-92ca-6ea7737b4a80",
   "metadata": {},
   "outputs": [],
   "source": [
    "rd9data = process_very_late_round_data(9, early_rounds_cols)\n",
    "rd10data = process_very_late_round_data(10,early_rounds_cols)\n",
    "late_rds_data = pd.concat([rd9data, rd10data])"
   ]
  },
  {
   "cell_type": "code",
   "execution_count": 4,
   "id": "7c2aaee3-a453-4eda-bbda-1112df367dd6",
   "metadata": {},
   "outputs": [],
   "source": [
    "late_rds_data.fillna(0, inplace = True)"
   ]
  },
  {
   "cell_type": "code",
   "execution_count": 5,
   "id": "f2607a96-b832-4034-aacc-3ec08c5ead33",
   "metadata": {},
   "outputs": [],
   "source": [
    "rds_1_through_8 = pd.read_csv(\"../final-data/ocean-votes-round-1-to-8-with-timestamps.csv\")"
   ]
  },
  {
   "cell_type": "code",
   "execution_count": 6,
   "id": "234f9e35-e903-4400-a011-3f0c91014b1e",
   "metadata": {},
   "outputs": [],
   "source": [
    "all_rounds_with_timestamps = pd.concat([rds_1_through_8,late_rds_data])"
   ]
  },
  {
   "cell_type": "code",
   "execution_count": 7,
   "id": "9eff07ae-5f08-470a-8dbc-5a7994310360",
   "metadata": {},
   "outputs": [],
   "source": [
    "from datetime import datetime\n",
    "\n",
    "human_times = [datetime.utcfromtimestamp(ts).strftime('%Y-%m-%d %H:%M:%S')\n",
    "              for ts in all_rounds_with_timestamps[\"timestamp\"]]\n",
    "\n",
    "all_rounds_with_timestamps[\"datetime\"] = human_times\n",
    "\n",
    "all_rounds_with_timestamps.to_csv(\"../final-data/ocean-votes-rounds_1_to_10_with_almost_all_timestamps.csv\")"
   ]
  },
  {
   "cell_type": "code",
   "execution_count": null,
   "id": "b5dd3b6b-9395-4f99-9a54-ad6f8bd3ef4d",
   "metadata": {},
   "outputs": [],
   "source": []
  }
 ],
 "metadata": {
  "kernelspec": {
   "display_name": "Python 3",
   "language": "python",
   "name": "python3"
  },
  "language_info": {
   "codemirror_mode": {
    "name": "ipython",
    "version": 3
   },
   "file_extension": ".py",
   "mimetype": "text/x-python",
   "name": "python",
   "nbconvert_exporter": "python",
   "pygments_lexer": "ipython3",
   "version": "3.8.8"
  }
 },
 "nbformat": 4,
 "nbformat_minor": 5
}
